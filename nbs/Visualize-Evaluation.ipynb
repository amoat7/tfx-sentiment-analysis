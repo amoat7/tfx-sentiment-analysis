{
 "cells": [
  {
   "cell_type": "markdown",
   "id": "d1ee4abb",
   "metadata": {},
   "source": [
    "Install and activate some jupyter extensions"
   ]
  },
  {
   "cell_type": "code",
   "execution_count": 1,
   "id": "39aed346",
   "metadata": {},
   "outputs": [
    {
     "name": "stdout",
     "output_type": "stream",
     "text": [
      "Config option `kernel_spec_manager_class` not recognized by `EnableNBExtensionApp`.\n",
      "Enabling notebook extension jupyter-js-widgets/extension...\n",
      "      - Validating: \u001b[32mOK\u001b[0m\n",
      "Config option `kernel_spec_manager_class` not recognized by `InstallNBExtensionApp`.\n",
      "Installing /opt/conda/lib/python3.7/site-packages/tensorflow_model_analysis/static -> tensorflow_model_analysis\n",
      "- Validating: \u001b[32mOK\u001b[0m\n",
      "\n",
      "    To initialize this nbextension in the browser every time the notebook (or other app) loads:\n",
      "    \n",
      "          jupyter nbextension enable tensorflow_model_analysis --py --sys-prefix\n",
      "    \n",
      "Config option `kernel_spec_manager_class` not recognized by `EnableNBExtensionApp`.\n",
      "Enabling notebook extension tensorflow_model_analysis/extension...\n",
      "      - Validating: \u001b[32mOK\u001b[0m\n"
     ]
    }
   ],
   "source": [
    "!jupyter nbextension enable --py widgetsnbextension --sys-prefix \n",
    "!jupyter nbextension install --py --symlink tensorflow_model_analysis --sys-prefix \n",
    "!jupyter nbextension enable --py tensorflow_model_analysis --sys-prefix "
   ]
  },
  {
   "cell_type": "markdown",
   "id": "f2189138",
   "metadata": {},
   "source": [
    "You need to reload the browser tab"
   ]
  },
  {
   "cell_type": "code",
   "execution_count": 2,
   "id": "9a08379c",
   "metadata": {},
   "outputs": [],
   "source": [
    "import tensorflow_model_analysis as tfma"
   ]
  },
  {
   "cell_type": "code",
   "execution_count": 3,
   "id": "42cd314a",
   "metadata": {},
   "outputs": [],
   "source": [
    "EVALUATION_URI = \"gs://tfx-article/pipeline_artifacts/sentimentanalysis/30425340785/sentimentanalysis-20220216174148/Evaluator_-9219479765692448768/evaluation\""
   ]
  },
  {
   "cell_type": "code",
   "execution_count": 4,
   "id": "29f1cfa9",
   "metadata": {},
   "outputs": [
    {
     "name": "stdout",
     "output_type": "stream",
     "text": [
      "WARNING:tensorflow:From /opt/conda/lib/python3.7/site-packages/tensorflow_model_analysis/writers/metrics_plots_and_validations_writer.py:109: tf_record_iterator (from tensorflow.python.lib.io.tf_record) is deprecated and will be removed in a future version.\n",
      "Instructions for updating:\n",
      "Use eager execution and: \n",
      "`tf.data.TFRecordDataset(path)`\n"
     ]
    },
    {
     "name": "stderr",
     "output_type": "stream",
     "text": [
      "WARNING:tensorflow:From /opt/conda/lib/python3.7/site-packages/tensorflow_model_analysis/writers/metrics_plots_and_validations_writer.py:109: tf_record_iterator (from tensorflow.python.lib.io.tf_record) is deprecated and will be removed in a future version.\n",
      "Instructions for updating:\n",
      "Use eager execution and: \n",
      "`tf.data.TFRecordDataset(path)`\n"
     ]
    }
   ],
   "source": [
    "result = tfma.load_eval_result(output_path=EVALUATION_URI, output_file_format=None)"
   ]
  },
  {
   "cell_type": "code",
   "execution_count": 5,
   "id": "5cebc1e0",
   "metadata": {},
   "outputs": [
    {
     "data": {
      "application/vnd.jupyter.widget-view+json": {
       "model_id": "b2258ae0b16643f38320cdc41598aeeb",
       "version_major": 2,
       "version_minor": 0
      },
      "text/plain": [
       "SlicingMetricsViewer(config={'weightedExamplesColumn': 'example_count'}, data=[{'slice': 'Overall', 'metrics':…"
      ]
     },
     "metadata": {},
     "output_type": "display_data"
    }
   ],
   "source": [
    "tfma.view.render_slicing_metrics(result)"
   ]
  }
 ],
 "metadata": {
  "kernelspec": {
   "display_name": "Python 3 (ipykernel)",
   "language": "python",
   "name": "python3"
  },
  "language_info": {
   "codemirror_mode": {
    "name": "ipython",
    "version": 3
   },
   "file_extension": ".py",
   "mimetype": "text/x-python",
   "name": "python",
   "nbconvert_exporter": "python",
   "pygments_lexer": "ipython3",
   "version": "3.7.12"
  }
 },
 "nbformat": 4,
 "nbformat_minor": 5
}
