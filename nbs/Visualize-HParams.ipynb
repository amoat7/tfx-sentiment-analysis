{
 "cells": [
  {
   "cell_type": "code",
   "execution_count": 1,
   "id": "6faf76a1",
   "metadata": {},
   "outputs": [],
   "source": [
    "import os"
   ]
  },
  {
   "cell_type": "code",
   "execution_count": 2,
   "id": "5d497501",
   "metadata": {},
   "outputs": [],
   "source": [
    "import json"
   ]
  },
  {
   "cell_type": "code",
   "execution_count": 3,
   "id": "f3f58cbb",
   "metadata": {},
   "outputs": [],
   "source": [
    "import keras_tuner"
   ]
  },
  {
   "cell_type": "code",
   "execution_count": 4,
   "id": "dc11a924",
   "metadata": {},
   "outputs": [],
   "source": [
    "import tensorflow as tf"
   ]
  },
  {
   "cell_type": "code",
   "execution_count": 5,
   "id": "42cd314a",
   "metadata": {},
   "outputs": [],
   "source": [
    "HPARAMS_URI = \"gs://tfx-article/pipeline_artifacts/sentimentanalysis/30425340785/sentimentanalysis-20220216174148/Tuner_-2301950738051366912/best_hyperparameters\""
   ]
  },
  {
   "cell_type": "code",
   "execution_count": 6,
   "id": "6d61f58e",
   "metadata": {},
   "outputs": [],
   "source": [
    "with tf.io.gfile.GFile(os.path.join(HPARAMS_URI, 'best_hyperparameters.txt'), 'r') as f:\n",
    "    hparams_config = json.load(f)"
   ]
  },
  {
   "cell_type": "code",
   "execution_count": 7,
   "id": "063f3986",
   "metadata": {},
   "outputs": [],
   "source": [
    "hparams = keras_tuner.HyperParameters.from_config(hparams_config)"
   ]
  },
  {
   "cell_type": "code",
   "execution_count": 8,
   "id": "bace107b",
   "metadata": {},
   "outputs": [
    {
     "data": {
      "text/plain": [
       "{'learning_rate': 0.01, 'hidden_size': 64}"
      ]
     },
     "execution_count": 8,
     "metadata": {},
     "output_type": "execute_result"
    }
   ],
   "source": [
    "hparams.values"
   ]
  }
 ],
 "metadata": {
  "kernelspec": {
   "display_name": "Python 3 (ipykernel)",
   "language": "python",
   "name": "python3"
  },
  "language_info": {
   "codemirror_mode": {
    "name": "ipython",
    "version": 3
   },
   "file_extension": ".py",
   "mimetype": "text/x-python",
   "name": "python",
   "nbconvert_exporter": "python",
   "pygments_lexer": "ipython3",
   "version": "3.7.12"
  }
 },
 "nbformat": 4,
 "nbformat_minor": 5
}
